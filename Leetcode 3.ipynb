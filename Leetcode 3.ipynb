{
 "cells": [
  {
   "cell_type": "markdown",
   "id": "99ab4c99",
   "metadata": {},
   "source": [
    "# Give an array of integer and an integer target, return indices of the two numbers such that they add up to target"
   ]
  },
  {
   "cell_type": "markdown",
   "id": "6b57bdb3",
   "metadata": {},
   "source": [
    "here the code"
   ]
  },
  {
   "cell_type": "code",
   "execution_count": 5,
   "id": "ceff4277",
   "metadata": {},
   "outputs": [],
   "source": [
    "def two_sum(nums, target):\n",
    "    #creating a dict to store the indices of numbers\n",
    "    num_indices = {}\n",
    "    \n",
    "    # Iterate through the array\n",
    "    for i, num in enumerate(nums):\n",
    "        #calculate the complement\n",
    "        complement = target - num\n",
    "        \n",
    "        #check if the complement is in the dict\n",
    "        if complement in num_indices:\n",
    "            #If yes, return the indices of the two numbers\n",
    "            return [num_indices[complement], i]\n",
    "        # If No, store the current value\n",
    "        num_indices[num] = i\n",
    "        \n",
    "    return []\n",
    "\n",
    "        "
   ]
  },
  {
   "cell_type": "code",
   "execution_count": 8,
   "id": "38e309a4",
   "metadata": {},
   "outputs": [
    {
     "name": "stdout",
     "output_type": "stream",
     "text": [
      "[0, 4]\n"
     ]
    }
   ],
   "source": [
    "#example \n",
    "nums = [2,8,42,65,124,1248]\n",
    "target = 126\n",
    "result = two_sum(nums, target)\n",
    "print(result)"
   ]
  },
  {
   "cell_type": "code",
   "execution_count": null,
   "id": "d41e02a4",
   "metadata": {},
   "outputs": [],
   "source": []
  }
 ],
 "metadata": {
  "kernelspec": {
   "display_name": "Python 3 (ipykernel)",
   "language": "python",
   "name": "python3"
  },
  "language_info": {
   "codemirror_mode": {
    "name": "ipython",
    "version": 3
   },
   "file_extension": ".py",
   "mimetype": "text/x-python",
   "name": "python",
   "nbconvert_exporter": "python",
   "pygments_lexer": "ipython3",
   "version": "3.9.7"
  }
 },
 "nbformat": 4,
 "nbformat_minor": 5
}
