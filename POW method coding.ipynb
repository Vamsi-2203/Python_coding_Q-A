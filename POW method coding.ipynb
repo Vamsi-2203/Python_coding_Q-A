{
 "cells": [
  {
   "cell_type": "markdown",
   "id": "509e0b36-3717-4f68-a28a-b9a6989dae64",
   "metadata": {},
   "source": [
    "# Python program to calculate the power using the POW method."
   ]
  },
  {
   "cell_type": "code",
   "execution_count": 1,
   "id": "9b6d9ff5-ba3d-4459-bb86-d2827604d777",
   "metadata": {},
   "outputs": [
    {
     "name": "stdin",
     "output_type": "stream",
     "text": [
      "Enter the base number:  3\n",
      "Enter the exponent:  6\n"
     ]
    },
    {
     "name": "stdout",
     "output_type": "stream",
     "text": [
      "3.0 raised to the power of 6.0 is 729.0.\n"
     ]
    }
   ],
   "source": [
    "def calculate_power(base, exponent):\n",
    "    return pow(base, exponent)\n",
    "\n",
    "# Example usage\n",
    "base = float(input(\"Enter the base number: \"))\n",
    "exponent = float(input(\"Enter the exponent: \"))\n",
    "result = calculate_power(base, exponent)\n",
    "print(f\"{base} raised to the power of {exponent} is {result}.\")\n"
   ]
  },
  {
   "cell_type": "code",
   "execution_count": null,
   "id": "42724e0e-4ae8-4e6f-a319-41baa20f009d",
   "metadata": {},
   "outputs": [],
   "source": []
  },
  {
   "cell_type": "markdown",
   "id": "b1071dcc-0108-4e50-a1fb-8849288f7241",
   "metadata": {},
   "source": [
    "# Python Program to calculate the power without using POW function.(using for loop)."
   ]
  },
  {
   "cell_type": "code",
   "execution_count": 2,
   "id": "8e3c4d36-86ab-4263-84ae-5d2a024ee024",
   "metadata": {},
   "outputs": [
    {
     "name": "stdin",
     "output_type": "stream",
     "text": [
      "Enter the base number:  34\n",
      "Enter the exponent (positive integer):  46\n"
     ]
    },
    {
     "name": "stdout",
     "output_type": "stream",
     "text": [
      "34.0 raised to the power of 46 is 2.805628625448267e+70.\n"
     ]
    }
   ],
   "source": [
    "def calculate_power(base, exponent):\n",
    "    result = 1\n",
    "    # Multiply the base exponent times\n",
    "    for _ in range(exponent):\n",
    "        result *= base\n",
    "    return result\n",
    "\n",
    "# Example usage\n",
    "base = float(input(\"Enter the base number: \"))\n",
    "exponent = int(input(\"Enter the exponent (positive integer): \"))\n",
    "\n",
    "# Handling negative exponents\n",
    "if exponent < 0:\n",
    "    result = 1 / calculate_power(base, -exponent)\n",
    "else:\n",
    "    result = calculate_power(base, exponent)\n",
    "\n",
    "print(f\"{base} raised to the power of {exponent} is {result}.\")\n"
   ]
  },
  {
   "cell_type": "code",
   "execution_count": null,
   "id": "56cedbb5-79ea-48a3-9dea-252e9c3538f4",
   "metadata": {},
   "outputs": [],
   "source": []
  },
  {
   "cell_type": "markdown",
   "id": "b17ddf59-c0b4-408c-bae7-f441040bbb83",
   "metadata": {},
   "source": [
    "# Python Program to calculate the power without using POW function.(using while loop)"
   ]
  },
  {
   "cell_type": "code",
   "execution_count": 3,
   "id": "56308013-5130-48e0-b8fa-d33a65a1700d",
   "metadata": {},
   "outputs": [
    {
     "name": "stdin",
     "output_type": "stream",
     "text": [
      "Enter the base number:  3\n",
      "Enter the exponent:  5\n"
     ]
    },
    {
     "name": "stdout",
     "output_type": "stream",
     "text": [
      "3.0 raised to the power of 5 is 243.0.\n"
     ]
    }
   ],
   "source": [
    "def calculate_power(base, exponent):\n",
    "    result = 1\n",
    "    abs_exponent = abs(exponent)\n",
    "    while abs_exponent > 0:\n",
    "        result *= base\n",
    "        abs_exponent -= 1\n",
    "\n",
    "    # Handle negative exponents\n",
    "    if exponent < 0:\n",
    "        result = 1 / result\n",
    "\n",
    "    return result\n",
    "\n",
    "# Example usage\n",
    "base = float(input(\"Enter the base number: \"))\n",
    "exponent = int(input(\"Enter the exponent: \"))\n",
    "\n",
    "result = calculate_power(base, exponent)\n",
    "print(f\"{base} raised to the power of {exponent} is {result}.\")\n"
   ]
  },
  {
   "cell_type": "code",
   "execution_count": null,
   "id": "1094df2d-c7bc-4b43-9800-5b252a355716",
   "metadata": {},
   "outputs": [],
   "source": []
  }
 ],
 "metadata": {
  "kernelspec": {
   "display_name": "Python 3 (ipykernel)",
   "language": "python",
   "name": "python3"
  },
  "language_info": {
   "codemirror_mode": {
    "name": "ipython",
    "version": 3
   },
   "file_extension": ".py",
   "mimetype": "text/x-python",
   "name": "python",
   "nbconvert_exporter": "python",
   "pygments_lexer": "ipython3",
   "version": "3.11.7"
  }
 },
 "nbformat": 4,
 "nbformat_minor": 5
}
