{
 "cells": [
  {
   "cell_type": "markdown",
   "id": "97a3f5fc-517d-444d-88ed-edefc8f09f6c",
   "metadata": {},
   "source": [
    "# Write a python program to sort a list of dictionaries by a specific key"
   ]
  },
  {
   "cell_type": "code",
   "execution_count": 2,
   "id": "85114d92-d274-4c3a-a05c-3dceabd17dbd",
   "metadata": {},
   "outputs": [
    {
     "name": "stdout",
     "output_type": "stream",
     "text": [
      "Sorted by name: [{'name': 'Reddy', 'age': 30}, {'name': 'Sai', 'age': 20}, {'name': 'Vamsi', 'age': 25}]\n",
      "Sorted by age: [{'name': 'Sai', 'age': 20}, {'name': 'Vamsi', 'age': 25}, {'name': 'Reddy', 'age': 30}]\n"
     ]
    }
   ],
   "source": [
    "def sort_dicts_by_key(list_of_dicts, key):\n",
    "    return sorted(list_of_dicts, key=lambda x: x[key])\n",
    "\n",
    "# Example usage\n",
    "list_of_dicts = [\n",
    "    {\"name\": \"Vamsi\", \"age\": 25},\n",
    "    {\"name\": \"Reddy\", \"age\": 30},\n",
    "    {\"name\": \"Sai\", \"age\": 20}\n",
    "]\n",
    "\n",
    "# Sort by the 'name' key\n",
    "sorted_by_name = sort_dicts_by_key(list_of_dicts, \"name\")\n",
    "print(\"Sorted by name:\", sorted_by_name)\n",
    "\n",
    "# Sort by the 'age' key\n",
    "sorted_by_age = sort_dicts_by_key(list_of_dicts, \"age\")\n",
    "print(\"Sorted by age:\", sorted_by_age)\n"
   ]
  },
  {
   "cell_type": "code",
   "execution_count": null,
   "id": "98cc9de8-2da5-4ec8-b0fa-4d70a1fd65b2",
   "metadata": {},
   "outputs": [],
   "source": []
  }
 ],
 "metadata": {
  "kernelspec": {
   "display_name": "Python 3 (ipykernel)",
   "language": "python",
   "name": "python3"
  },
  "language_info": {
   "codemirror_mode": {
    "name": "ipython",
    "version": 3
   },
   "file_extension": ".py",
   "mimetype": "text/x-python",
   "name": "python",
   "nbconvert_exporter": "python",
   "pygments_lexer": "ipython3",
   "version": "3.11.7"
  }
 },
 "nbformat": 4,
 "nbformat_minor": 5
}
