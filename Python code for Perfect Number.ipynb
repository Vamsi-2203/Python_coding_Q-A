{
 "cells": [
  {
   "cell_type": "markdown",
   "id": "f89f2ba1",
   "metadata": {},
   "source": [
    "# Python code for Perfect Number"
   ]
  },
  {
   "cell_type": "code",
   "execution_count": 3,
   "id": "6ff513f9",
   "metadata": {},
   "outputs": [
    {
     "name": "stdout",
     "output_type": "stream",
     "text": [
      "Enter a number: -5\n",
      "-5 is not a perfect number.\n"
     ]
    }
   ],
   "source": [
    "def is_perfect_num(num):\n",
    "    if num <= 0:\n",
    "        return False\n",
    "    \n",
    "    #Find the divisors and sum them \n",
    "    divisor_sum = sum([i for i in range(1, num) if num % i == 0])\n",
    "    \n",
    "    # check the sum of divisors is equal to the org num\n",
    "    return divisor_sum == num\n",
    "\n",
    "#example\n",
    "number = int(input(\"Enter a number: \"))\n",
    "\n",
    "if is_perfect_num(number):\n",
    "    print(f\"{number} is a perfect number.\")\n",
    "    \n",
    "else:\n",
    "    print(f\"{number} is not a perfect number.\")"
   ]
  },
  {
   "cell_type": "code",
   "execution_count": null,
   "id": "40155d9b",
   "metadata": {},
   "outputs": [],
   "source": []
  }
 ],
 "metadata": {
  "kernelspec": {
   "display_name": "Python 3 (ipykernel)",
   "language": "python",
   "name": "python3"
  },
  "language_info": {
   "codemirror_mode": {
    "name": "ipython",
    "version": 3
   },
   "file_extension": ".py",
   "mimetype": "text/x-python",
   "name": "python",
   "nbconvert_exporter": "python",
   "pygments_lexer": "ipython3",
   "version": "3.9.7"
  }
 },
 "nbformat": 4,
 "nbformat_minor": 5
}
