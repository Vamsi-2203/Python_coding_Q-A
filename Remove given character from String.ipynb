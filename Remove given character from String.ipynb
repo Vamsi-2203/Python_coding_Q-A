{
 "cells": [
  {
   "cell_type": "markdown",
   "id": "6cfe7e73-6b1c-4d13-9752-958affd635c2",
   "metadata": {},
   "source": [
    "# Python program to remove given character from String"
   ]
  },
  {
   "cell_type": "code",
   "execution_count": 1,
   "id": "4e28504d-5bfa-4f28-be15-6b7e32e4894d",
   "metadata": {},
   "outputs": [
    {
     "name": "stdin",
     "output_type": "stream",
     "text": [
      "Enter a string:  google\n",
      "Enter a character to remove:  o\n"
     ]
    },
    {
     "name": "stdout",
     "output_type": "stream",
     "text": [
      "The string after removing 'o' is: ggle\n"
     ]
    }
   ],
   "source": [
    "def remove_character(input_string, char_to_remove):\n",
    "    # Use list comprehension to create a new string with characters not equal to char_to_remove\n",
    "    result_string = ''.join([char for char in input_string if char != char_to_remove])\n",
    "    return result_string\n",
    "\n",
    "# Example usage\n",
    "input_string = input(\"Enter a string: \")\n",
    "char_to_remove = input(\"Enter a character to remove: \")\n",
    "\n",
    "modified_string = remove_character(input_string, char_to_remove)\n",
    "print(f\"The string after removing '{char_to_remove}' is: {modified_string}\")\n"
   ]
  },
  {
   "cell_type": "code",
   "execution_count": null,
   "id": "7d07e2e0-5602-4fb5-bca3-8557907d535a",
   "metadata": {},
   "outputs": [],
   "source": []
  }
 ],
 "metadata": {
  "kernelspec": {
   "display_name": "Python 3 (ipykernel)",
   "language": "python",
   "name": "python3"
  },
  "language_info": {
   "codemirror_mode": {
    "name": "ipython",
    "version": 3
   },
   "file_extension": ".py",
   "mimetype": "text/x-python",
   "name": "python",
   "nbconvert_exporter": "python",
   "pygments_lexer": "ipython3",
   "version": "3.11.7"
  }
 },
 "nbformat": 4,
 "nbformat_minor": 5
}
