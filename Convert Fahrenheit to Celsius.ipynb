{
 "cells": [
  {
   "cell_type": "markdown",
   "id": "c8ed011d-105c-4c8d-9194-fe0797ffa81c",
   "metadata": {},
   "source": [
    "# Python Program to convert Fahrenheit to Celsius."
   ]
  },
  {
   "cell_type": "code",
   "execution_count": 1,
   "id": "4d86132c-c498-4a35-b367-307558968e67",
   "metadata": {},
   "outputs": [
    {
     "name": "stdin",
     "output_type": "stream",
     "text": [
      "Enter temperature in Fahrenheit:  345.4\n"
     ]
    },
    {
     "name": "stdout",
     "output_type": "stream",
     "text": [
      "345.4°F is equal to 174.11°C.\n"
     ]
    }
   ],
   "source": [
    "def fahrenheit_to_celsius(fahrenheit):\n",
    "    return (fahrenheit - 32) * 5/9\n",
    "\n",
    "# Example usage\n",
    "fahrenheit = float(input(\"Enter temperature in Fahrenheit: \"))\n",
    "celsius = fahrenheit_to_celsius(fahrenheit)\n",
    "print(f\"{fahrenheit}°F is equal to {celsius:.2f}°C.\")\n"
   ]
  },
  {
   "cell_type": "code",
   "execution_count": null,
   "id": "0eabe630-ff86-4403-94f4-e5a634978ab3",
   "metadata": {},
   "outputs": [],
   "source": []
  }
 ],
 "metadata": {
  "kernelspec": {
   "display_name": "Python 3 (ipykernel)",
   "language": "python",
   "name": "python3"
  },
  "language_info": {
   "codemirror_mode": {
    "name": "ipython",
    "version": 3
   },
   "file_extension": ".py",
   "mimetype": "text/x-python",
   "name": "python",
   "nbconvert_exporter": "python",
   "pygments_lexer": "ipython3",
   "version": "3.11.7"
  }
 },
 "nbformat": 4,
 "nbformat_minor": 5
}
