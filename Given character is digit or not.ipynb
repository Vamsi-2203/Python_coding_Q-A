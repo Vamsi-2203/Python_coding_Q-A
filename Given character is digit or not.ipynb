{
 "cells": [
  {
   "cell_type": "markdown",
   "id": "2ba9357e-4cb5-426a-90d2-e752cfe53e6a",
   "metadata": {},
   "source": [
    "# Python program to check given character is digit or not"
   ]
  },
  {
   "cell_type": "code",
   "execution_count": 3,
   "id": "b205f84e-707f-405e-8ad3-ad1ad038a98f",
   "metadata": {},
   "outputs": [
    {
     "name": "stdin",
     "output_type": "stream",
     "text": [
      "Enter a character:  2\n"
     ]
    },
    {
     "name": "stdout",
     "output_type": "stream",
     "text": [
      "The character '2' is a digit.\n"
     ]
    }
   ],
   "source": [
    "def check_digit(character):\n",
    "    return character.isdigit()\n",
    "\n",
    "# Example usage:\n",
    "char = input(\"Enter a character: \")\n",
    "\n",
    "if check_digit(char):\n",
    "    print(f\"The character '{char}' is a digit.\")\n",
    "else:\n",
    "    print(f\"The character '{char}' is not a digit.\")\n"
   ]
  },
  {
   "cell_type": "code",
   "execution_count": null,
   "id": "53f59b3a-5fd7-4cb6-b6e0-04d62bf49af4",
   "metadata": {},
   "outputs": [],
   "source": []
  }
 ],
 "metadata": {
  "kernelspec": {
   "display_name": "Python 3 (ipykernel)",
   "language": "python",
   "name": "python3"
  },
  "language_info": {
   "codemirror_mode": {
    "name": "ipython",
    "version": 3
   },
   "file_extension": ".py",
   "mimetype": "text/x-python",
   "name": "python",
   "nbconvert_exporter": "python",
   "pygments_lexer": "ipython3",
   "version": "3.11.7"
  }
 },
 "nbformat": 4,
 "nbformat_minor": 5
}
