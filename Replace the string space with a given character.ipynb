{
 "cells": [
  {
   "cell_type": "markdown",
   "id": "483ee316-3270-46d7-a2d9-f5a6fb36b402",
   "metadata": {},
   "source": [
    "# Python program to replace the string space with a given character"
   ]
  },
  {
   "cell_type": "code",
   "execution_count": 5,
   "id": "8ad75094-52d7-4bd9-b22b-d156951a24b7",
   "metadata": {},
   "outputs": [
    {
     "name": "stdin",
     "output_type": "stream",
     "text": [
      "Enter a string:  Hello world is a first program\n",
      "Enter the character to replace spaces with:  _\n"
     ]
    },
    {
     "name": "stdout",
     "output_type": "stream",
     "text": [
      "Modified string: Hello_world_is_a_first_program\n"
     ]
    }
   ],
   "source": [
    "def replace_spaces(input_string, replace_char):\n",
    "    return input_string.replace(' ', replace_char)\n",
    "\n",
    "# Example usage:\n",
    "input_str = input(\"Enter a string: \")\n",
    "replace_char = input(\"Enter the character to replace spaces with: \")\n",
    "\n",
    "result = replace_spaces(input_str, replace_char)\n",
    "print(f\"Modified string: {result}\")\n"
   ]
  },
  {
   "cell_type": "code",
   "execution_count": null,
   "id": "ae47c815-6d4d-40cf-b483-87fa96aee629",
   "metadata": {},
   "outputs": [],
   "source": []
  }
 ],
 "metadata": {
  "kernelspec": {
   "display_name": "Python 3 (ipykernel)",
   "language": "python",
   "name": "python3"
  },
  "language_info": {
   "codemirror_mode": {
    "name": "ipython",
    "version": 3
   },
   "file_extension": ".py",
   "mimetype": "text/x-python",
   "name": "python",
   "nbconvert_exporter": "python",
   "pygments_lexer": "ipython3",
   "version": "3.11.7"
  }
 },
 "nbformat": 4,
 "nbformat_minor": 5
}
