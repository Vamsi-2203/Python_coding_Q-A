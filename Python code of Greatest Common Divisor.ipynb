{
 "cells": [
  {
   "cell_type": "markdown",
   "id": "d2dadc5c",
   "metadata": {},
   "source": [
    "# Python code of Greatest Common Divisor"
   ]
  },
  {
   "cell_type": "code",
   "execution_count": 4,
   "id": "aab054a1",
   "metadata": {},
   "outputs": [
    {
     "name": "stdout",
     "output_type": "stream",
     "text": [
      "Enter the first number: 1\n",
      "Enter the second number: 0\n",
      "The Greatest Common Divisor of 1 and 0 is : 1\n"
     ]
    }
   ],
   "source": [
    "def gcd(a,b):\n",
    "    while b:\n",
    "        a, b =b, a % b\n",
    "    return a\n",
    "#examples\n",
    "num1 = int(input(\"Enter the first number: \"))\n",
    "num2 = int(input(\"Enter the second number: \"))\n",
    "\n",
    "res = gcd(num1,num2)\n",
    "print(f\"The Greatest Common Divisor of {num1} and {num2} is : {res}\")\n"
   ]
  },
  {
   "cell_type": "code",
   "execution_count": null,
   "id": "79f4cc86",
   "metadata": {},
   "outputs": [],
   "source": []
  }
 ],
 "metadata": {
  "kernelspec": {
   "display_name": "Python 3 (ipykernel)",
   "language": "python",
   "name": "python3"
  },
  "language_info": {
   "codemirror_mode": {
    "name": "ipython",
    "version": 3
   },
   "file_extension": ".py",
   "mimetype": "text/x-python",
   "name": "python",
   "nbconvert_exporter": "python",
   "pygments_lexer": "ipython3",
   "version": "3.9.7"
  }
 },
 "nbformat": 4,
 "nbformat_minor": 5
}
