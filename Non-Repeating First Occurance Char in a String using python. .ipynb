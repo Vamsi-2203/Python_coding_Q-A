{
 "cells": [
  {
   "cell_type": "markdown",
   "id": "381621ab",
   "metadata": {},
   "source": [
    "# Non-Repeating First Occurance Char in a String"
   ]
  },
  {
   "cell_type": "code",
   "execution_count": 21,
   "id": "c7d7fe86",
   "metadata": {},
   "outputs": [
    {
     "name": "stdout",
     "output_type": "stream",
     "text": [
      "first non repeat char l\n"
     ]
    }
   ],
   "source": [
    "def first_non(word):\n",
    "    char_count = {}\n",
    "    non_repeating_chars = []\n",
    "    \n",
    "    for char in word:\n",
    "        char_count[char] = char_count.get(char, 0) +1\n",
    "        \n",
    "        if char_count[char] == 1:\n",
    "            non_repeating_chars.append(char)\n",
    "        elif char in non_repeating_chars:\n",
    "            non_repeating_chars.remove(char)\n",
    "           \n",
    "    return non_repeating_chars[0] if non_repeating_chars else None\n",
    "\n",
    "word = \"google\"\n",
    "result = first_non(word)\n",
    "\n",
    "if result is not None:\n",
    "    print(\"first non repeat char\", result)\n",
    "    \n",
    "else:\n",
    "    print(\"No non-repeating char in a string\")"
   ]
  },
  {
   "cell_type": "code",
   "execution_count": null,
   "id": "cf77db18",
   "metadata": {},
   "outputs": [],
   "source": []
  }
 ],
 "metadata": {
  "kernelspec": {
   "display_name": "Python 3 (ipykernel)",
   "language": "python",
   "name": "python3"
  },
  "language_info": {
   "codemirror_mode": {
    "name": "ipython",
    "version": 3
   },
   "file_extension": ".py",
   "mimetype": "text/x-python",
   "name": "python",
   "nbconvert_exporter": "python",
   "pygments_lexer": "ipython3",
   "version": "3.11.5"
  }
 },
 "nbformat": 4,
 "nbformat_minor": 5
}
