{
 "cells": [
  {
   "cell_type": "markdown",
   "id": "555b39a1",
   "metadata": {},
   "source": [
    "# Python program to interchange first and last elements in a list"
   ]
  },
  {
   "cell_type": "code",
   "execution_count": 2,
   "id": "455b5d9e",
   "metadata": {},
   "outputs": [
    {
     "name": "stdout",
     "output_type": "stream",
     "text": [
      "[3, 25, 78, 2, 89, 35, 75, 49, 1, 12]\n"
     ]
    }
   ],
   "source": [
    "My_list = [12, 25,78,2,89,35,75,49,1,3] #input list\n",
    "\n",
    "if My_list:\n",
    "    \n",
    "    My_list[0], My_list[-1] = My_list[-1], My_list[0] \n",
    "    #In above step we have done swap of list element\n",
    "    \n",
    "print(My_list)\n"
   ]
  },
  {
   "cell_type": "code",
   "execution_count": null,
   "id": "d465a2dd",
   "metadata": {},
   "outputs": [],
   "source": []
  }
 ],
 "metadata": {
  "kernelspec": {
   "display_name": "Python 3 (ipykernel)",
   "language": "python",
   "name": "python3"
  },
  "language_info": {
   "codemirror_mode": {
    "name": "ipython",
    "version": 3
   },
   "file_extension": ".py",
   "mimetype": "text/x-python",
   "name": "python",
   "nbconvert_exporter": "python",
   "pygments_lexer": "ipython3",
   "version": "3.9.7"
  }
 },
 "nbformat": 4,
 "nbformat_minor": 5
}
