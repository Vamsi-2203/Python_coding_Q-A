{
 "cells": [
  {
   "cell_type": "markdown",
   "id": "c14d12fe",
   "metadata": {},
   "source": [
    "# Give an integer array nums, move all 0's to the end of it while maintaining the relative order of the non-zero elements. Note the you must do this inplace without making a copy of the array"
   ]
  },
  {
   "cell_type": "code",
   "execution_count": 1,
   "id": "6d6f7864",
   "metadata": {},
   "outputs": [],
   "source": [
    "def move_zero(nums):\n",
    "    non_zero_index = 0\n",
    "    \n",
    "    #move non-zero elements to the front\n",
    "    for i in range(len(nums)):\n",
    "        if nums[i] != 0:\n",
    "            nums[non_zero_index], nums[i] = nums[i], nums[non_zero_index]\n",
    "            non_zero_index += 1\n",
    "            "
   ]
  },
  {
   "cell_type": "code",
   "execution_count": 2,
   "id": "47479fea",
   "metadata": {},
   "outputs": [
    {
     "name": "stdout",
     "output_type": "stream",
     "text": [
      "[1, 25, 56, 24, 136, 5568, 0, 0, 0]\n"
     ]
    }
   ],
   "source": [
    "#example\n",
    "nums = [1,0,0,25,0,56,24,136,5568]\n",
    "move_zero(nums)\n",
    "print(nums)"
   ]
  },
  {
   "cell_type": "code",
   "execution_count": null,
   "id": "556d2554",
   "metadata": {},
   "outputs": [],
   "source": []
  }
 ],
 "metadata": {
  "kernelspec": {
   "display_name": "Python 3 (ipykernel)",
   "language": "python",
   "name": "python3"
  },
  "language_info": {
   "codemirror_mode": {
    "name": "ipython",
    "version": 3
   },
   "file_extension": ".py",
   "mimetype": "text/x-python",
   "name": "python",
   "nbconvert_exporter": "python",
   "pygments_lexer": "ipython3",
   "version": "3.9.7"
  }
 },
 "nbformat": 4,
 "nbformat_minor": 5
}
