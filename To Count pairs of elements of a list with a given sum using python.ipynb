{
 "cells": [
  {
   "cell_type": "markdown",
   "id": "5f1e78d1",
   "metadata": {},
   "source": [
    "# To Count pairs of elements of a list with a given sum using python\n"
   ]
  },
  {
   "cell_type": "code",
   "execution_count": 2,
   "id": "bcb37c5d",
   "metadata": {},
   "outputs": [
    {
     "name": "stdout",
     "output_type": "stream",
     "text": [
      "Number of pairs with sum 15: 6\n"
     ]
    }
   ],
   "source": [
    "def count_pairs_with_sum(nums,target_sum):\n",
    "    num_count={}\n",
    "    pair_count = 0\n",
    "    \n",
    "    for num in nums:\n",
    "        complement = target_sum - num\n",
    "        if complement in num_count and num_count[complement] >0:\n",
    "            pair_count += 1\n",
    "            num_count[complement] -= 1\n",
    "        else:\n",
    "            num_count[num] = num_count.get(num,0) +1\n",
    "    return pair_count\n",
    "\n",
    "#example\n",
    "nums = [1,2,3,4,5,6,7,8,9,10,11,12,13]\n",
    "target_sum = 15\n",
    "result = count_pairs_with_sum(nums,target_sum)\n",
    "print(f\"Number of pairs with sum {target_sum}: {result}\")"
   ]
  },
  {
   "cell_type": "code",
   "execution_count": null,
   "id": "95a007b6",
   "metadata": {},
   "outputs": [],
   "source": []
  }
 ],
 "metadata": {
  "kernelspec": {
   "display_name": "Python 3 (ipykernel)",
   "language": "python",
   "name": "python3"
  },
  "language_info": {
   "codemirror_mode": {
    "name": "ipython",
    "version": 3
   },
   "file_extension": ".py",
   "mimetype": "text/x-python",
   "name": "python",
   "nbconvert_exporter": "python",
   "pygments_lexer": "ipython3",
   "version": "3.9.7"
  }
 },
 "nbformat": 4,
 "nbformat_minor": 5
}
