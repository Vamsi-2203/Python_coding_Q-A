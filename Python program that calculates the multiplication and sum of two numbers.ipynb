{
 "cells": [
  {
   "cell_type": "markdown",
   "id": "2f852bf2",
   "metadata": {},
   "source": [
    "# Python program that calculates the multiplication and sum of two numbers"
   ]
  },
  {
   "cell_type": "code",
   "execution_count": 2,
   "id": "2067b86c",
   "metadata": {},
   "outputs": [
    {
     "name": "stdout",
     "output_type": "stream",
     "text": [
      "Enter the first number: 5.6\n",
      "Enter the second number: 53.7\n",
      "The Product of 5.6 and 53.7 is: 300.71999999999997\n",
      "The Sum of 5.6 and 53.7 is: 59.300000000000004\n"
     ]
    }
   ],
   "source": [
    "# input two numbers from the user \n",
    "num1 = float(input(\"Enter the first number: \"))\n",
    "num2 = float(input(\"Enter the second number: \")) \n",
    "\n",
    "\n",
    "#calculate the multiplication and sum\n",
    "product = num1 * num2 # this code is work for Multiplication\n",
    "sum_res = num1 + num2 # this code is work for sum\n",
    "\n",
    "#test case\n",
    "print(f\"The Product of {num1} and {num2} is: {product}\")\n",
    "print(f\"The Sum of {num1} and {num2} is: {sum_res}\")"
   ]
  },
  {
   "cell_type": "code",
   "execution_count": null,
   "id": "a07ff579",
   "metadata": {},
   "outputs": [],
   "source": []
  }
 ],
 "metadata": {
  "kernelspec": {
   "display_name": "Python 3 (ipykernel)",
   "language": "python",
   "name": "python3"
  },
  "language_info": {
   "codemirror_mode": {
    "name": "ipython",
    "version": 3
   },
   "file_extension": ".py",
   "mimetype": "text/x-python",
   "name": "python",
   "nbconvert_exporter": "python",
   "pygments_lexer": "ipython3",
   "version": "3.9.7"
  }
 },
 "nbformat": 4,
 "nbformat_minor": 5
}
