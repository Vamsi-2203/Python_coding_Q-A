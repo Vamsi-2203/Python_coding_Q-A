{
 "cells": [
  {
   "cell_type": "markdown",
   "id": "747ed6f6-051b-4165-93fd-b5ddc704d6b9",
   "metadata": {},
   "source": [
    "# Python program to calculate Simple Interest "
   ]
  },
  {
   "cell_type": "code",
   "execution_count": 1,
   "id": "5fdc1c26-a706-4305-becf-2c54e7cf2f35",
   "metadata": {},
   "outputs": [
    {
     "name": "stdin",
     "output_type": "stream",
     "text": [
      "Enter the principal amount:  456\n",
      "Enter the annual interest rate (in %):  9\n",
      "Enter the time period (in years):  2\n"
     ]
    },
    {
     "name": "stdout",
     "output_type": "stream",
     "text": [
      "The simple interest for the principal amount 456.0 at an annual interest rate of 9.0% for 2.0 years is 82.08.\n"
     ]
    }
   ],
   "source": [
    "def calculate_simple_interest(principal, rate, time):\n",
    "    return (principal * rate * time) / 100\n",
    "\n",
    "# Example usage\n",
    "principal = float(input(\"Enter the principal amount: \"))\n",
    "rate = float(input(\"Enter the annual interest rate (in %): \"))\n",
    "time = float(input(\"Enter the time period (in years): \"))\n",
    "\n",
    "simple_interest = calculate_simple_interest(principal, rate, time)\n",
    "print(f\"The simple interest for the principal amount {principal} at an annual interest rate of {rate}% for {time} years is {simple_interest}.\")\n"
   ]
  },
  {
   "cell_type": "code",
   "execution_count": null,
   "id": "ff124fbb-25ab-43e9-b66d-a6f960bc49e1",
   "metadata": {},
   "outputs": [],
   "source": []
  }
 ],
 "metadata": {
  "kernelspec": {
   "display_name": "Python 3 (ipykernel)",
   "language": "python",
   "name": "python3"
  },
  "language_info": {
   "codemirror_mode": {
    "name": "ipython",
    "version": 3
   },
   "file_extension": ".py",
   "mimetype": "text/x-python",
   "name": "python",
   "nbconvert_exporter": "python",
   "pygments_lexer": "ipython3",
   "version": "3.11.7"
  }
 },
 "nbformat": 4,
 "nbformat_minor": 5
}
