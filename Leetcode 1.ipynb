{
 "cells": [
  {
   "cell_type": "markdown",
   "id": "f39dab1e",
   "metadata": {},
   "source": [
    "# Give an integer array nums, return an array answer such that answer[i] is equal to the product of all the elements of nums except nums[i]"
   ]
  },
  {
   "cell_type": "code",
   "execution_count": 7,
   "id": "b93a23c3",
   "metadata": {},
   "outputs": [],
   "source": [
    "def product_except_self(nums):\n",
    "    n = len(nums)\n",
    "    \n",
    "    #initialize left and right array\n",
    "    left_products = [1] * n\n",
    "    right_products = [1] * n\n",
    "    \n",
    "    #compute the product to the left of each element\n",
    "    left_product = 1\n",
    "    for i in range(1, n):\n",
    "        left_product *= nums[i-1]\n",
    "        left_products[i] = left_product\n",
    "        \n",
    "    #compute the product to the right of each element\n",
    "    right_product = 1\n",
    "    for i in range(n-2,-1,-1):\n",
    "        right_product *= nums [ i + 1]\n",
    "        right_products[i] = right_product\n",
    "        \n",
    "    #multiply the left and right products\n",
    "    answer = [left_products[i] * right_products[i] for i in range(n)]\n",
    "    return answer\n",
    "\n"
   ]
  },
  {
   "cell_type": "code",
   "execution_count": 8,
   "id": "7e50903b",
   "metadata": {},
   "outputs": [
    {
     "name": "stdout",
     "output_type": "stream",
     "text": [
      "[24, 12, 8, 6]\n"
     ]
    }
   ],
   "source": [
    "#example \n",
    "nums = [1,2,3, ]\n",
    "result = product_except_self(nums)\n",
    "print(result)"
   ]
  },
  {
   "cell_type": "code",
   "execution_count": null,
   "id": "5d5b73bd",
   "metadata": {},
   "outputs": [],
   "source": []
  }
 ],
 "metadata": {
  "kernelspec": {
   "display_name": "Python 3 (ipykernel)",
   "language": "python",
   "name": "python3"
  },
  "language_info": {
   "codemirror_mode": {
    "name": "ipython",
    "version": 3
   },
   "file_extension": ".py",
   "mimetype": "text/x-python",
   "name": "python",
   "nbconvert_exporter": "python",
   "pygments_lexer": "ipython3",
   "version": "3.9.7"
  }
 },
 "nbformat": 4,
 "nbformat_minor": 5
}
